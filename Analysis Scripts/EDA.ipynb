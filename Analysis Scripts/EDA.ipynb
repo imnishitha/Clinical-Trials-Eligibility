{
 "cells": [
  {
   "cell_type": "code",
   "execution_count": 34,
   "id": "d0a2bb93",
   "metadata": {},
   "outputs": [],
   "source": [
    "import pandas as pd\n",
    "import numpy as np\n",
    "import random"
   ]
  },
  {
   "cell_type": "code",
   "execution_count": 52,
   "id": "95cb13b6",
   "metadata": {},
   "outputs": [],
   "source": [
    "df = pd.read_csv('../Dataset/original_json_data.csv')\n",
    "syn = pd.read_csv('../Dataset/synthetic_data_binary.csv')\n",
    "syn.drop(columns=['index'], inplace=True)"
   ]
  },
  {
   "cell_type": "code",
   "execution_count": 18,
   "id": "d4876eb4",
   "metadata": {},
   "outputs": [
    {
     "data": {
      "text/plain": [
       "(UniqueCountsResult(values=array(['negative', 'unknown'], dtype=object), counts=array([  13, 2411])),\n",
       " UniqueCountsResult(values=array([False,  True]), counts=array([270, 400])))"
      ]
     },
     "execution_count": 18,
     "metadata": {},
     "output_type": "execute_result"
    }
   ],
   "source": [
    "np.unique_counts(df['label']), np.unique_counts(syn['label'])"
   ]
  },
  {
   "cell_type": "code",
   "execution_count": 60,
   "id": "5d30ba18",
   "metadata": {},
   "outputs": [],
   "source": [
    "subset_one = df[df['label']=='negative']\n",
    "excluded_indices = subset_one.index\n",
    "all_indices = list(range(0, 2400))\n",
    "available_indices = [i for i in all_indices if i not in excluded_indices]\n",
    "sampled_indices = random.sample(available_indices, 200)\n",
    "subset = pd.concat([syn, subset_one, df.loc[sampled_indices, :]])\n",
    "subset.reset_index(drop=True, inplace=True)\n",
    "subset['label'] = subset['label'].astype(str)"
   ]
  },
  {
   "cell_type": "code",
   "execution_count": 61,
   "id": "dd065d28",
   "metadata": {},
   "outputs": [
    {
     "data": {
      "text/html": [
       "<div>\n",
       "<style scoped>\n",
       "    .dataframe tbody tr th:only-of-type {\n",
       "        vertical-align: middle;\n",
       "    }\n",
       "\n",
       "    .dataframe tbody tr th {\n",
       "        vertical-align: top;\n",
       "    }\n",
       "\n",
       "    .dataframe thead th {\n",
       "        text-align: right;\n",
       "    }\n",
       "</style>\n",
       "<table border=\"1\" class=\"dataframe\">\n",
       "  <thead>\n",
       "    <tr style=\"text-align: right;\">\n",
       "      <th></th>\n",
       "      <th>patient</th>\n",
       "      <th>criteria</th>\n",
       "      <th>label</th>\n",
       "    </tr>\n",
       "  </thead>\n",
       "  <tbody>\n",
       "    <tr>\n",
       "      <th>0</th>\n",
       "      <td>A 45-year-old male was found unresponsive afte...</td>\n",
       "      <td>Inclusion Criteria: Age greater than or equal ...</td>\n",
       "      <td>True</td>\n",
       "    </tr>\n",
       "    <tr>\n",
       "      <th>1</th>\n",
       "      <td>A 62-year-old female suffered an out-of-hospit...</td>\n",
       "      <td>Inclusion Criteria: Age greater than or equal ...</td>\n",
       "      <td>True</td>\n",
       "    </tr>\n",
       "    <tr>\n",
       "      <th>2</th>\n",
       "      <td>An 18-year-old male experienced an out-of-hosp...</td>\n",
       "      <td>Inclusion Criteria: Age greater than or equal ...</td>\n",
       "      <td>True</td>\n",
       "    </tr>\n",
       "    <tr>\n",
       "      <th>3</th>\n",
       "      <td>A 70-year-old female suffered an out-of-hospit...</td>\n",
       "      <td>Inclusion Criteria: Age greater than or equal ...</td>\n",
       "      <td>True</td>\n",
       "    </tr>\n",
       "    <tr>\n",
       "      <th>4</th>\n",
       "      <td>A 50-year-old male was brought to the ED after...</td>\n",
       "      <td>Inclusion Criteria: Age greater than or equal ...</td>\n",
       "      <td>True</td>\n",
       "    </tr>\n",
       "    <tr>\n",
       "      <th>...</th>\n",
       "      <td>...</td>\n",
       "      <td>...</td>\n",
       "      <td>...</td>\n",
       "    </tr>\n",
       "    <tr>\n",
       "      <th>878</th>\n",
       "      <td>A 43-year-old Mexican Hispanic man arrived in ...</td>\n",
       "      <td>Inclusion Criteria: Patients with Diabetes Mel...</td>\n",
       "      <td>unknown</td>\n",
       "    </tr>\n",
       "    <tr>\n",
       "      <th>879</th>\n",
       "      <td>A 15-year-old male patient visited the clinic ...</td>\n",
       "      <td>Inclusion Criteria: Age greater than or equal ...</td>\n",
       "      <td>unknown</td>\n",
       "    </tr>\n",
       "    <tr>\n",
       "      <th>880</th>\n",
       "      <td>A 50-year-old woman presented to the Breast Un...</td>\n",
       "      <td>Inclusion Criteria: Patients with Diabetes Mel...</td>\n",
       "      <td>unknown</td>\n",
       "    </tr>\n",
       "    <tr>\n",
       "      <th>881</th>\n",
       "      <td>A 37-month-old male infant from Guangxi Provin...</td>\n",
       "      <td>Inclusion Criteria: Patients with Type 1 or 2 ...</td>\n",
       "      <td>unknown</td>\n",
       "    </tr>\n",
       "    <tr>\n",
       "      <th>882</th>\n",
       "      <td>We present the case of an eight-month-old Hisp...</td>\n",
       "      <td>Inclusion Criteria: Patients with Diabetes Mel...</td>\n",
       "      <td>unknown</td>\n",
       "    </tr>\n",
       "  </tbody>\n",
       "</table>\n",
       "<p>883 rows × 3 columns</p>\n",
       "</div>"
      ],
      "text/plain": [
       "                                               patient  \\\n",
       "0    A 45-year-old male was found unresponsive afte...   \n",
       "1    A 62-year-old female suffered an out-of-hospit...   \n",
       "2    An 18-year-old male experienced an out-of-hosp...   \n",
       "3    A 70-year-old female suffered an out-of-hospit...   \n",
       "4    A 50-year-old male was brought to the ED after...   \n",
       "..                                                 ...   \n",
       "878  A 43-year-old Mexican Hispanic man arrived in ...   \n",
       "879  A 15-year-old male patient visited the clinic ...   \n",
       "880  A 50-year-old woman presented to the Breast Un...   \n",
       "881  A 37-month-old male infant from Guangxi Provin...   \n",
       "882  We present the case of an eight-month-old Hisp...   \n",
       "\n",
       "                                              criteria    label  \n",
       "0    Inclusion Criteria: Age greater than or equal ...     True  \n",
       "1    Inclusion Criteria: Age greater than or equal ...     True  \n",
       "2    Inclusion Criteria: Age greater than or equal ...     True  \n",
       "3    Inclusion Criteria: Age greater than or equal ...     True  \n",
       "4    Inclusion Criteria: Age greater than or equal ...     True  \n",
       "..                                                 ...      ...  \n",
       "878  Inclusion Criteria: Patients with Diabetes Mel...  unknown  \n",
       "879  Inclusion Criteria: Age greater than or equal ...  unknown  \n",
       "880  Inclusion Criteria: Patients with Diabetes Mel...  unknown  \n",
       "881  Inclusion Criteria: Patients with Type 1 or 2 ...  unknown  \n",
       "882  Inclusion Criteria: Patients with Diabetes Mel...  unknown  \n",
       "\n",
       "[883 rows x 3 columns]"
      ]
     },
     "execution_count": 61,
     "metadata": {},
     "output_type": "execute_result"
    }
   ],
   "source": [
    "subset"
   ]
  },
  {
   "cell_type": "code",
   "execution_count": 64,
   "id": "0e2929be",
   "metadata": {},
   "outputs": [],
   "source": [
    "def convert_labels(label):\n",
    "    if label == 'True':\n",
    "        ans = 1.0\n",
    "    elif label == 'unknown':\n",
    "        ans = 0.5\n",
    "    else:\n",
    "        ans = 0.0\n",
    "    return ans\n",
    "\n",
    "subset['label'] = subset['label'].apply(lambda x: convert_labels(x))\n"
   ]
  },
  {
   "cell_type": "code",
   "execution_count": 67,
   "id": "7cb71d5e",
   "metadata": {},
   "outputs": [],
   "source": [
    "subset.to_csv('../Dataset/consolidated_data.csv', index=False, header=True)"
   ]
  }
 ],
 "metadata": {
  "kernelspec": {
   "display_name": "nlp_project_venv",
   "language": "python",
   "name": "python3"
  },
  "language_info": {
   "codemirror_mode": {
    "name": "ipython",
    "version": 3
   },
   "file_extension": ".py",
   "mimetype": "text/x-python",
   "name": "python",
   "nbconvert_exporter": "python",
   "pygments_lexer": "ipython3",
   "version": "3.10.17"
  }
 },
 "nbformat": 4,
 "nbformat_minor": 5
}
