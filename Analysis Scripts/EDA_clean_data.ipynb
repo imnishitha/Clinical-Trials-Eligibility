{
 "cells": [
  {
   "cell_type": "code",
   "execution_count": 19,
   "id": "112be203",
   "metadata": {},
   "outputs": [],
   "source": [
    "import pandas as pd\n",
    "import matplotlib.pyplot as plt\n",
    "from tokenizers import Tokenizer"
   ]
  },
  {
   "cell_type": "code",
   "execution_count": 9,
   "id": "c1d4c323",
   "metadata": {},
   "outputs": [],
   "source": [
    "df = pd.read_csv('../Dataset/cleaned_data_3.csv')\n",
    "tokenizer = Tokenizer.from_file('../BPE/bpe_tokenizer.json')"
   ]
  },
  {
   "cell_type": "code",
   "execution_count": 12,
   "id": "e04a995e",
   "metadata": {},
   "outputs": [
    {
     "data": {
      "text/plain": [
       "10588"
      ]
     },
     "execution_count": 12,
     "metadata": {},
     "output_type": "execute_result"
    }
   ],
   "source": [
    "tokenizer.token_to_id(\"hi\")"
   ]
  },
  {
   "cell_type": "code",
   "execution_count": 3,
   "id": "5166f3eb",
   "metadata": {},
   "outputs": [
    {
     "data": {
      "text/html": [
       "<div>\n",
       "<style scoped>\n",
       "    .dataframe tbody tr th:only-of-type {\n",
       "        vertical-align: middle;\n",
       "    }\n",
       "\n",
       "    .dataframe tbody tr th {\n",
       "        vertical-align: top;\n",
       "    }\n",
       "\n",
       "    .dataframe thead th {\n",
       "        text-align: right;\n",
       "    }\n",
       "</style>\n",
       "<table border=\"1\" class=\"dataframe\">\n",
       "  <thead>\n",
       "    <tr style=\"text-align: right;\">\n",
       "      <th></th>\n",
       "      <th>patient</th>\n",
       "      <th>criteria</th>\n",
       "      <th>label</th>\n",
       "    </tr>\n",
       "  </thead>\n",
       "  <tbody>\n",
       "    <tr>\n",
       "      <th>0</th>\n",
       "      <td>a 45 year old male was found unresponsive afte...</td>\n",
       "      <td>inclusion criteria age greater than or equal t...</td>\n",
       "      <td>1.0</td>\n",
       "    </tr>\n",
       "    <tr>\n",
       "      <th>1</th>\n",
       "      <td>a 62 year old female suffered an out of hospit...</td>\n",
       "      <td>inclusion criteria age greater than or equal t...</td>\n",
       "      <td>1.0</td>\n",
       "    </tr>\n",
       "    <tr>\n",
       "      <th>2</th>\n",
       "      <td>an 18 year old male experienced an out of hosp...</td>\n",
       "      <td>inclusion criteria age greater than or equal t...</td>\n",
       "      <td>1.0</td>\n",
       "    </tr>\n",
       "    <tr>\n",
       "      <th>3</th>\n",
       "      <td>a 70 year old female suffered an out of hospit...</td>\n",
       "      <td>inclusion criteria age greater than or equal t...</td>\n",
       "      <td>1.0</td>\n",
       "    </tr>\n",
       "    <tr>\n",
       "      <th>4</th>\n",
       "      <td>a 50 year old male was brought to the ed after...</td>\n",
       "      <td>inclusion criteria age greater than or equal t...</td>\n",
       "      <td>1.0</td>\n",
       "    </tr>\n",
       "  </tbody>\n",
       "</table>\n",
       "</div>"
      ],
      "text/plain": [
       "                                             patient  \\\n",
       "0  a 45 year old male was found unresponsive afte...   \n",
       "1  a 62 year old female suffered an out of hospit...   \n",
       "2  an 18 year old male experienced an out of hosp...   \n",
       "3  a 70 year old female suffered an out of hospit...   \n",
       "4  a 50 year old male was brought to the ed after...   \n",
       "\n",
       "                                            criteria  label  \n",
       "0  inclusion criteria age greater than or equal t...    1.0  \n",
       "1  inclusion criteria age greater than or equal t...    1.0  \n",
       "2  inclusion criteria age greater than or equal t...    1.0  \n",
       "3  inclusion criteria age greater than or equal t...    1.0  \n",
       "4  inclusion criteria age greater than or equal t...    1.0  "
      ]
     },
     "execution_count": 3,
     "metadata": {},
     "output_type": "execute_result"
    }
   ],
   "source": [
    "df.head()"
   ]
  },
  {
   "cell_type": "code",
   "execution_count": null,
   "id": "0a71512f",
   "metadata": {},
   "outputs": [],
   "source": [
    "df['patient'].apply(lambda x: )"
   ]
  },
  {
   "cell_type": "code",
   "execution_count": 17,
   "id": "d713c210",
   "metadata": {},
   "outputs": [
    {
     "data": {
      "text/plain": [
       "(np.int64(1374), np.int64(80), np.float64(225.1710079275198))"
      ]
     },
     "execution_count": 17,
     "metadata": {},
     "output_type": "execute_result"
    }
   ],
   "source": [
    "df['combined'] = \"[CLS]\" + df['patient'] + \" [SEP] \" + df['criteria']\n",
    "df['combined'].apply(lambda x: len(tokenizer.encode(x).tokens)).max(), df['combined'].apply(lambda x: len(tokenizer.encode(x).tokens)).min(), df['combined'].apply(lambda x: len(tokenizer.encode(x).tokens)).mean()"
   ]
  },
  {
   "cell_type": "code",
   "execution_count": 25,
   "id": "2ab56e94",
   "metadata": {},
   "outputs": [
    {
     "data": {
      "text/plain": [
       "Text(0, 0.5, 'Frequency')"
      ]
     },
     "execution_count": 25,
     "metadata": {},
     "output_type": "execute_result"
    },
    {
     "data": {
      "image/png": "[encoded data removed]",
      "text/plain": [
       "<Figure size 640x480 with 1 Axes>"
      ]
     },
     "metadata": {},
     "output_type": "display_data"
    }
   ],
   "source": [
    "combined_token_len = df['patient'].apply(lambda x: len(tokenizer.encode(x).tokens))\n",
    "plt.hist(combined_token_len)\n",
    "plt.xlabel('Number of Words')\n",
    "plt.ylabel('Frequency')"
   ]
  }
 ],
 "metadata": {
  "kernelspec": {
   "display_name": "nlp_project_venv",
   "language": "python",
   "name": "python3"
  },
  "language_info": {
   "codemirror_mode": {
    "name": "ipython",
    "version": 3
   },
   "file_extension": ".py",
   "mimetype": "text/x-python",
   "name": "python",
   "nbconvert_exporter": "python",
   "pygments_lexer": "ipython3",
   "version": "3.10.17"
  }
 },
 "nbformat": 4,
 "nbformat_minor": 5
}
